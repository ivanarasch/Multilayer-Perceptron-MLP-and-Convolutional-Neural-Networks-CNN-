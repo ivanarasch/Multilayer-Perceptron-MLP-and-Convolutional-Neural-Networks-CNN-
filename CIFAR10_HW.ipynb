{
  "nbformat": 4,
  "nbformat_minor": 0,
  "metadata": {
    "colab": {
      "provenance": [],
      "collapsed_sections": []
    },
    "kernelspec": {
      "name": "python3",
      "display_name": "Python 3"
    },
    "language_info": {
      "name": "python"
    },
    "accelerator": "GPU",
    "gpuClass": "standard"
  },
  "cells": [
    {
      "cell_type": "code",
      "execution_count": 1,
      "metadata": {
        "id": "2kdy0csJfKBK"
      },
      "outputs": [],
      "source": [
        "import numpy as np\n",
        "import seaborn as sns\n",
        "\n",
        "import tensorflow as tf\n",
        "from tensorflow import keras\n",
        "\n",
        "import ssl\n",
        "ssl._create_default_https_context = ssl._create_unverified_context"
      ]
    },
    {
      "cell_type": "markdown",
      "source": [
        "The CIFAR10 is a dataset of 50,000 32x32 color training images and 10,000 test images, labeled over 10 categories. See more info at the [CIFAR homepage](https://www.cs.toronto.edu/~kriz/cifar.html)\n",
        "\n",
        "**x_train**: uint8 NumPy array of grayscale image data with shapes\n",
        "      `(50000, 32, 32, 3)`, containing the training data. Pixel values range from 0 to 255.\n",
        "\n",
        "**y_train**: uint8 NumPy array of labels (integers in range 0-9) with shape `(50000, 1)` for the training data.\n",
        "\n",
        "**x_test**: uint8 NumPy array of grayscale image data with shapes `(10000, 32, 32, 3)`, containing the test data. Pixel values range from 0 to 255.\n",
        "\n",
        "**y_test**: uint8 NumPy array of labels (integers in range 0-9) with shape `(10000, 1)` for the test data.\n",
        "\n",
        "The classes are:\n",
        "\n",
        "    | Label | Description |\n",
        "    |:-----:|-------------|\n",
        "    |   0   | airplane    |\n",
        "    |   1   | automobile  |\n",
        "    |   2   | bird        |\n",
        "    |   3   | cat         |\n",
        "    |   4   | deer        |\n",
        "    |   5   | dog         |\n",
        "    |   6   | frog        |\n",
        "    |   7   | horse       |\n",
        "    |   8   | ship        |\n",
        "    |   9   | truck       |"
      ],
      "metadata": {
        "id": "um7x5m1RgL_K"
      }
    },
    {
      "cell_type": "code",
      "source": [
        "# Load the CIFAR10 dataset\n",
        "\n",
        "(x_train, y_train), (x_test, y_test) = keras.datasets.cifar10.load_data()"
      ],
      "metadata": {
        "id": "vKjkt2SOnaiG"
      },
      "execution_count": 2,
      "outputs": []
    }
  ]
}